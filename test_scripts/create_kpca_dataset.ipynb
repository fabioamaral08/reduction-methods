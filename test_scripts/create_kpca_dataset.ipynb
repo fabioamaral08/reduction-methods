{
 "cells": [
  {
   "cell_type": "code",
   "execution_count": 1,
   "metadata": {},
   "outputs": [
    {
     "ename": "ModuleNotFoundError",
     "evalue": "No module named 'utils'",
     "output_type": "error",
     "traceback": [
      "\u001b[1;31m---------------------------------------------------------------------------\u001b[0m",
      "\u001b[1;31mModuleNotFoundError\u001b[0m                       Traceback (most recent call last)",
      "Cell \u001b[1;32mIn[1], line 8\u001b[0m\n\u001b[0;32m      6\u001b[0m a\u001b[38;5;129m@a\u001b[39m\n\u001b[0;32m      7\u001b[0m \u001b[38;5;28;01mimport\u001b[39;00m \u001b[38;5;21;01mmatplotlib\u001b[39;00m\u001b[38;5;21;01m.\u001b[39;00m\u001b[38;5;21;01mpyplot\u001b[39;00m \u001b[38;5;28;01mas\u001b[39;00m \u001b[38;5;21;01mplt\u001b[39;00m\n\u001b[1;32m----> 8\u001b[0m \u001b[38;5;28;01mfrom\u001b[39;00m \u001b[38;5;21;01mutils\u001b[39;00m \u001b[38;5;28;01mimport\u001b[39;00m get_mesh_vtk\n\u001b[0;32m      9\u001b[0m \u001b[38;5;28;01mfrom\u001b[39;00m \u001b[38;5;21;01mutils\u001b[39;00m \u001b[38;5;28;01mimport\u001b[39;00m get_data\n\u001b[0;32m     10\u001b[0m \u001b[38;5;28;01mfrom\u001b[39;00m \u001b[38;5;21;01mutils\u001b[39;00m \u001b[38;5;28;01mimport\u001b[39;00m strip_cross, reconstruct_cross\n",
      "\u001b[1;31mModuleNotFoundError\u001b[0m: No module named 'utils'"
     ]
    }
   ],
   "source": [
    "import sys \n",
    "sys.path.append('../src') \n",
    "import numpy as np\n",
    "#for some reason, matplotlib crashes without these lines\n",
    "a = np.zeros((5,5))\n",
    "a@a\n",
    "import matplotlib.pyplot as plt\n",
    "from utils import get_mesh_vtk\n",
    "from utils import get_data\n",
    "from utils import strip_cross, reconstruct_cross\n",
    "from KPCA import *\n",
    "import KPCA\n",
    "import Autoencoder\n",
    "# from torchsummary import summary\n",
    "# from Autoencoder import Autoencoder\n",
    "import torch\n",
    "import torch.nn as nn\n",
    "from utils import calc_energy, torch2np\n",
    "import glob\n",
    "import os\n",
    "# from importlib import reload"
   ]
  },
  {
   "cell_type": "code",
   "execution_count": null,
   "metadata": {},
   "outputs": [],
   "source": [
    "def get_t(filename):\n",
    "    str_s = filename.split('_')[4].replace('t','')\n",
    "    t = float(str_s)\n",
    "    return t\n",
    "\n",
    "def read_from_ds(Wi, beta, ds_path=None):\n",
    "    if ds_path is None:\n",
    "        ds_path = '../../npz_data/four_roll_train'\n",
    "\n",
    "    files = glob.glob(f'*Wi{Wi:g}_beta{beta:g}_*.pt', root_dir=ds_path)\n",
    "    X = torch.load(f'{ds_path}/{files[0]}')['tensor']\n",
    "    P = torch.load(f'{ds_path}/{files[0]}')['param']\n",
    "    data = torch.zeros([len(files)] + [s for s in X.shape])\n",
    "    params = torch.zeros([len(files)] + [len(P)])\n",
    "\n",
    "\n",
    "    files = np.array(files)\n",
    "    times = [get_t(fname) for fname in files]\n",
    "    idx = np.argsort(times)\n",
    "    files = files[idx]\n",
    "    for i,file in enumerate(files):\n",
    "        data_file = torch.load(f'{ds_path}/{file}')\n",
    "        data[i] = data_file['tensor'].float()\n",
    "        params[i] = torch.tensor(data_file['param']).float()\n",
    "    return data, params\n",
    "\n",
    "def get_n_params(model):\n",
    "    pp=0\n",
    "    for p in list(model.parameters()):\n",
    "        nn=1\n",
    "        for s in list(p.size()):\n",
    "            nn = nn*s\n",
    "        pp += nn\n",
    "    return pp"
   ]
  },
  {
   "cell_type": "code",
   "execution_count": null,
   "metadata": {},
   "outputs": [],
   "source": [
    "parameters = [[2.0, 0.11111],\n",
    " [2.0, 0.4],\n",
    " [2.0, 0.75],\n",
    " [3.0, 0.11111],\n",
    " [3.0, 0.4],\n",
    " [3.0, 0.75],\n",
    " [3.5, 0.11111],\n",
    " [3.5, 0.4],\n",
    " [3.5, 0.75],\n",
    " [3.8, 0.11111],\n",
    " [3.8, 0.4],\n",
    " [3.8, 0.75]]"
   ]
  },
  {
   "cell_type": "code",
   "execution_count": null,
   "metadata": {},
   "outputs": [],
   "source": [
    "dspath = '../../npz_data/four_roll_train_osc'\n",
    "Xpca = np.zeros((5*4096,0))\n",
    "Parampca = np.zeros((0,2))\n",
    "for p in parameters:\n",
    "    X_torch, param = read_from_ds(*p, ds_path=dspath)\n",
    "\n",
    "    Xpca = np.concatenate((Xpca,torch2np(X_torch)), axis=1)\n",
    "    Parampca = np.concatenate((Parampca,torch2np(param)), axis=0)\n",
    "    break"
   ]
  },
  {
   "cell_type": "code",
   "execution_count": null,
   "metadata": {},
   "outputs": [],
   "source": []
  }
 ],
 "metadata": {
  "kernelspec": {
   "display_name": "base",
   "language": "python",
   "name": "python3"
  },
  "language_info": {
   "codemirror_mode": {
    "name": "ipython",
    "version": 3
   },
   "file_extension": ".py",
   "mimetype": "text/x-python",
   "name": "python",
   "nbconvert_exporter": "python",
   "pygments_lexer": "ipython3",
   "version": "3.11.4"
  }
 },
 "nbformat": 4,
 "nbformat_minor": 2
}
