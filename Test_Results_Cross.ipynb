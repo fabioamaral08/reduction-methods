{
 "cells": [
  {
   "cell_type": "code",
   "execution_count": 1,
   "metadata": {},
   "outputs": [],
   "source": [
    "import numpy as np\n",
    "#for some reason, matplotlib crashes without these lines\n",
    "a = np.zeros((5,5))\n",
    "a@a\n",
    "import matplotlib.pyplot as plt\n",
    "from utils import get_mesh_vtk\n",
    "from utils import get_data\n",
    "from utils import strip_cross, reconstruct_cross\n",
    "from KPCA import *\n",
    "import Autoencoder\n",
    "# from torchsummary import summary\n",
    "# from Autoencoder import Autoencoder\n",
    "import torch\n",
    "import torch.nn as nn\n",
    "from utils import calc_energy\n",
    "import os\n",
    "# from importlib import reload"
   ]
  },
  {
   "cell_type": "code",
   "execution_count": 2,
   "metadata": {},
   "outputs": [],
   "source": [
    "device_type = \"cuda\" if torch.cuda.is_available() else \"cpu\"\n",
    "device = torch.device(device_type)"
   ]
  },
  {
   "cell_type": "code",
   "execution_count": null,
   "metadata": {},
   "outputs": [],
   "source": [
    "\n",
    "## Data reading\n",
    "parameters = [\n",
    "        (0.01,2.5,0.11111),\n",
    "        (0.01,3.5,0.11111),\n",
    "        (0.01,5.0,0.33333),\n",
    "        (0.01,7.0,0.11111),\n",
    "        (0.01,7.5,0.33333),\n",
    "]\n",
    "# Parameters:\n",
    "# Re = 1\n",
    "# Wi = 7.5\n",
    "# beta = 0.6\n",
    "Re ,Wi ,beta = parameters[0]\n",
    "alpha = (1-beta)/(Re*Wi)\n",
    "\n",
    "dx = 1/2**6\n",
    "# type of simulation\n",
    "case = 'cross'\n",
    "#read file\n",
    "X, Xmean = get_data(Re,Wi,beta, case, n_data= -2, dir_path='../npz_data')\n",
    "print('Data shape: ',X.shape)\n",
    "# # Reshape for pytorch NN\n",
    "# X_torch = np2torch(X)\n",
    "# print('Pytorch Input shape: ',X_torch.shape)\n",
    "\n",
    "\n",
    "\n",
    "# #normalize data inside autoencoder\n",
    "# lower_bound = (X_torch.min(dim = 0, keepdim=True)[0].min(dim=2, keepdim=True)[0]).float().to(device)\n",
    "# upper_bound = (X_torch.max(dim = 0, keepdim=True)[0].max(dim=2, keepdim=True)[0]).float().to(device)"
   ]
  }
 ],
 "metadata": {
  "kernelspec": {
   "display_name": "base",
   "language": "python",
   "name": "python3"
  },
  "language_info": {
   "codemirror_mode": {
    "name": "ipython",
    "version": 3
   },
   "file_extension": ".py",
   "mimetype": "text/x-python",
   "name": "python",
   "nbconvert_exporter": "python",
   "pygments_lexer": "ipython3",
   "version": "3.11.4"
  }
 },
 "nbformat": 4,
 "nbformat_minor": 2
}
