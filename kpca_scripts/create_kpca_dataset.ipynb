{
 "cells": [
  {
   "cell_type": "code",
   "execution_count": 1,
   "metadata": {},
   "outputs": [],
   "source": [
    "import sys \n",
    "sys.path.append('../src') \n",
    "import numpy as np\n",
    "#for some reason, matplotlib crashes without these lines\n",
    "a = np.zeros((5,5))\n",
    "a@a\n",
    "import matplotlib.pyplot as plt\n",
    "from utils import get_mesh_vtk\n",
    "from utils import get_data\n",
    "from utils import strip_cross, reconstruct_cross\n",
    "from KPCA import *\n",
    "import KPCA\n",
    "import Autoencoder\n",
    "# from torchsummary import summary\n",
    "# from Autoencoder import Autoencoder\n",
    "import torch\n",
    "import torch.nn as nn\n",
    "from utils import calc_energy, torch2np\n",
    "import glob\n",
    "import os\n",
    "# from importlib import reload"
   ]
  },
  {
   "cell_type": "code",
   "execution_count": 2,
   "metadata": {},
   "outputs": [],
   "source": [
    "def get_t(filename):\n",
    "    str_s = filename.split('_')[4].replace('t','')\n",
    "    t = float(str_s)\n",
    "    return t\n",
    "\n",
    "def read_from_ds(Wi, beta, ds_path=None):\n",
    "    if ds_path is None:\n",
    "        ds_path = '../../npz_data/four_roll_train'\n",
    "\n",
    "    files = glob.glob(f'*Wi{Wi:g}_beta{beta:g}_*.pt', root_dir=ds_path)\n",
    "    X = torch.load(f'{ds_path}/{files[0]}')['tensor']\n",
    "    P = torch.load(f'{ds_path}/{files[0]}')['param']\n",
    "    data = torch.zeros([len(files)] + [s for s in X.shape])\n",
    "    params = torch.zeros([len(files)] + [len(P)])\n",
    "\n",
    "\n",
    "    files = np.array(files)\n",
    "    times = [get_t(fname) for fname in files]\n",
    "    idx = np.argsort(times)\n",
    "    files = files[idx]\n",
    "    for i,file in enumerate(files):\n",
    "        data_file = torch.load(f'{ds_path}/{file}')\n",
    "        data[i] = data_file['tensor'].float()\n",
    "        params[i] = torch.tensor(data_file['param']).float()\n",
    "    return data, params\n",
    "\n",
    "def get_n_params(model):\n",
    "    pp=0\n",
    "    for p in list(model.parameters()):\n",
    "        nn=1\n",
    "        for s in list(p.size()):\n",
    "            nn = nn*s\n",
    "        pp += nn\n",
    "    return pp"
   ]
  },
  {
   "cell_type": "code",
   "execution_count": 21,
   "metadata": {},
   "outputs": [],
   "source": [
    "Re = 1.0\n",
    "parameters = [[2.0, 0.11111],\n",
    " [2.0, 0.4],\n",
    " [2.0, 0.75],\n",
    " [3.0, 0.11111],\n",
    " [3.0, 0.4],\n",
    " [3.0, 0.75],\n",
    " [3.5, 0.11111],\n",
    " [3.5, 0.4],\n",
    " [3.5, 0.75],\n",
    " [3.8, 0.11111],\n",
    " [3.8, 0.4],\n",
    " [3.8, 0.75]]"
   ]
  },
  {
   "cell_type": "code",
   "execution_count": 15,
   "metadata": {},
   "outputs": [],
   "source": [
    "dspath = '../../npz_data/four_roll_train_osc'\n",
    "X_list = []\n",
    "param_list = []\n",
    "for p in parameters:\n",
    "    X_torch, param = read_from_ds(*p, ds_path=dspath)\n",
    "\n",
    "    X_list.append(torch2np(X_torch))\n",
    "    param_list.append(param[:,:2].numpy())\n",
    "    "
   ]
  },
  {
   "cell_type": "code",
   "execution_count": 19,
   "metadata": {},
   "outputs": [],
   "source": [
    "Xpca = np.hstack(X_list)\n",
    "param_kpca = np.vstack(param_list)"
   ]
  },
  {
   "cell_type": "code",
   "execution_count": 22,
   "metadata": {},
   "outputs": [
    {
     "name": "stdout",
     "output_type": "stream",
     "text": [
      "Theta Shape (36000, 1)\n",
      "Theta train Shape (36000, 36000)\n"
     ]
    }
   ],
   "source": [
    "Wi_arr = param_kpca[:,0]\n",
    "beta_arr = param_kpca[:,1]\n",
    "\n",
    "theta_pca = ((1-beta_arr)/(Re * Wi_arr))[:,None]\n",
    "theta_pca_sqrt = np.sqrt(theta_pca@theta_pca.T)\n",
    "\n",
    "print('Theta Shape',theta_pca.shape)\n",
    "print('Theta train Shape',theta_pca_sqrt.shape)"
   ]
  },
  {
   "cell_type": "code",
   "execution_count": null,
   "metadata": {},
   "outputs": [],
   "source": [
    "KPCA_linear = KPCA.KernelPCA()\n",
    "KPCA_oldroyd = KPCA.KernelPCA()"
   ]
  },
  {
   "cell_type": "code",
   "execution_count": null,
   "metadata": {},
   "outputs": [],
   "source": [
    "degree = 1\n",
    "ncomp = 3 \n",
    "dx = 1/(2**6)\n",
    "KPCA_linear = KPCA.KernelPCA()\n",
    "KPCA_oldroyd = KPCA.KernelPCA()\n",
    "\n",
    "KPCA_linear.fit(Xpca.T, n_components=ncomp, kernel='linear', theta=theta_pca_sqrt, eps = None, degree = degree, use_chol = 200)\n",
    "KPCA_oldroyd.fit(Xpca.T, n_components=ncomp, kernel='oldroyd', theta=theta_pca_sqrt, eps = None, dx = dx, dy = dx, degree = degree, use_chol = 200)"
   ]
  },
  {
   "cell_type": "code",
   "execution_count": null,
   "metadata": {},
   "outputs": [],
   "source": []
  }
 ],
 "metadata": {
  "kernelspec": {
   "display_name": "base",
   "language": "python",
   "name": "python3"
  },
  "language_info": {
   "codemirror_mode": {
    "name": "ipython",
    "version": 3
   },
   "file_extension": ".py",
   "mimetype": "text/x-python",
   "name": "python",
   "nbconvert_exporter": "python",
   "pygments_lexer": "ipython3",
   "version": "3.11.4"
  }
 },
 "nbformat": 4,
 "nbformat_minor": 2
}
